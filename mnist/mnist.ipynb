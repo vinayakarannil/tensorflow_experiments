{
 "cells": [
  {
   "cell_type": "code",
   "execution_count": 1,
   "metadata": {
    "collapsed": false,
    "deletable": true,
    "editable": true
   },
   "outputs": [
    {
     "name": "stdout",
     "output_type": "stream",
     "text": [
      "Using matplotlib backend: TkAgg\n"
     ]
    }
   ],
   "source": [
    "import tensorflow as tf\n",
    "from tensorflow.examples.tutorials.mnist import input_data\n",
    "import numpy as np\n",
    "import matplotlib.pyplot as plt\n",
    "from matplotlib import cm\n",
    "import sys\n",
    "import os\n",
    "import random\n",
    "import argparse\n",
    "%matplotlib"
   ]
  },
  {
   "cell_type": "code",
   "execution_count": 2,
   "metadata": {
    "collapsed": true,
    "deletable": true,
    "editable": true
   },
   "outputs": [],
   "source": [
    "#argument parser\n",
    "#parser = argparse.ArgumentParser(description='train.py')\n",
    "#parser.add_argument('-train', required=True, \n",
    "#                    help='Train or Predict')\n",
    "#arguments = parser.parse_args()\n",
    "Train = True"
   ]
  },
  {
   "cell_type": "code",
   "execution_count": 3,
   "metadata": {
    "collapsed": true,
    "deletable": true,
    "editable": true
   },
   "outputs": [],
   "source": [
    "#Define parameters\n",
    "checkpoint_dir = 'ckpt'\n",
    "checkpoint_prefix = os.path.join(checkpoint_dir, \"model\")\n",
    "BATCH_SIZE = 128\n",
    "LR = 0.001              # learning rate"
   ]
  },
  {
   "cell_type": "code",
   "execution_count": 4,
   "metadata": {
    "collapsed": false,
    "deletable": true,
    "editable": true
   },
   "outputs": [
    {
     "name": "stdout",
     "output_type": "stream",
     "text": [
      "Extracting mnist/train-images-idx3-ubyte.gz\n",
      "Extracting mnist/train-labels-idx1-ubyte.gz\n",
      "Extracting mnist/t10k-images-idx3-ubyte.gz\n",
      "Extracting mnist/t10k-labels-idx1-ubyte.gz\n"
     ]
    }
   ],
   "source": [
    "#step1 : Read data\n",
    "#using tensorflow's built in function. Take 2000 test images\n",
    "mnist = input_data.read_data_sets('mnist', one_hot=True)  # they has been normalized to range (0,1)\n",
    "test_x = mnist.test.images[:2000]\n",
    "test_y = mnist.test.labels[:2000]"
   ]
  },
  {
   "cell_type": "code",
   "execution_count": 7,
   "metadata": {
    "collapsed": false,
    "deletable": true,
    "editable": true
   },
   "outputs": [
    {
     "name": "stdout",
     "output_type": "stream",
     "text": [
      "(55000, 784)\n",
      "(55000, 10)\n"
     ]
    },
    {
     "name": "stderr",
     "output_type": "stream",
     "text": [
      "/usr/local/lib/python3.5/dist-packages/matplotlib/backend_bases.py:2445: MatplotlibDeprecationWarning: Using default event loop until function specific to this GUI is implemented\n",
      "  warnings.warn(str, mplDeprecation)\n"
     ]
    }
   ],
   "source": [
    "#step2 : plot one example\n",
    "#Plot the dimensions of MNIST dataset\n",
    "print(mnist.train.images.shape)     # (55000, 28 * 28)\n",
    "print(mnist.train.labels.shape)   # (55000, 10)\n",
    "plt.xticks([])\n",
    "plt.yticks([])\n",
    "number = random.randint(0, 20000)\n",
    "plt.imshow(mnist.train.images[number].reshape((28, 28)), cmap='gray')\n",
    "plt.title('%i' % np.argmax(mnist.train.labels[number])); plt.show();plt.pause(3);plt.close()"
   ]
  },
  {
   "cell_type": "code",
   "execution_count": 8,
   "metadata": {
    "collapsed": true,
    "deletable": true,
    "editable": true
   },
   "outputs": [],
   "source": [
    "#step3: create placeholders for features and labels\n",
    "#each image in the MNIST is of size 28*28 = 784\n",
    "#therefore each image is represented by a 784 tensor\n",
    "#there are 10 classes for each image, corresponding to digit 0-9.\n",
    "#each label is a one-hot vector\n",
    "tf_x = tf.placeholder(tf.float32, [None, 28*28])\n",
    "image = tf.reshape(tf_x, [-1, 28, 28, 1])              # (batch, height, width, channel)\n",
    "tf_y = tf.placeholder(tf.int32, [None, 10])            # input y"
   ]
  },
  {
   "cell_type": "code",
   "execution_count": 9,
   "metadata": {
    "collapsed": false,
    "deletable": true,
    "editable": true
   },
   "outputs": [],
   "source": [
    "#Step4: Build the model\n",
    "#conv1==>pool1==>conv2==>pool2==>dense1==>dense2==>output\n",
    "def model(image):\n",
    "    with tf.name_scope(\"conv1\"):\n",
    "        conv1 = tf.layers.conv2d(   # shape (28, 28, 1)\n",
    "            inputs=image,\n",
    "            filters=32,\n",
    "            kernel_size=5,\n",
    "            strides=1,\n",
    "            padding='same',\n",
    "            activation=tf.nn.relu\n",
    "        )           # -> (28, 28, 32)\n",
    "    with tf.name_scope(\"pool1\"):\n",
    "        pool1 = tf.layers.max_pooling2d(\n",
    "            conv1,\n",
    "            pool_size=2,\n",
    "            strides=2,\n",
    "        )           # -> (14, 14, 32)\n",
    "    with tf.name_scope(\"conv2\"):\n",
    "        conv2 =tf.layers.conv2d(   # shape (14, 14, 32)\n",
    "            inputs=pool1,\n",
    "            filters=64,\n",
    "            kernel_size=5,\n",
    "            strides=1,\n",
    "            padding='same',\n",
    "            activation=tf.nn.relu\n",
    "        )  \n",
    "\n",
    "    with tf.name_scope(\"pool2\"):\n",
    "        pool2 = tf.layers.max_pooling2d(\n",
    "            conv2,\n",
    "            pool_size=2,\n",
    "            strides=2,\n",
    "        )     # -> (7, 7, 64)\n",
    "    flat = tf.reshape(pool2, [-1, 7*7*64])          # -> (7*7*64, )\n",
    "    with tf.name_scope(\"dense1\"):\n",
    "        dense = tf.layers.dense(inputs=flat, units=1024, activation=tf.nn.relu)\n",
    "    dropout = tf.layers.dropout(inputs=dense, rate=0.6)\n",
    "       \n",
    "    with tf.name_scope(\"dense2\"):\n",
    "        output = tf.layers.dense(dropout, units=10)              # output layer\n",
    "    return output"
   ]
  },
  {
   "cell_type": "code",
   "execution_count": 10,
   "metadata": {
    "collapsed": false,
    "deletable": true,
    "editable": true
   },
   "outputs": [],
   "source": [
    "prediction = model(image)\n",
    "#Step5: Define loss function\n",
    "#use cross-entropy of softmax of logits as the loss function\n",
    "#add loss to the summary to visualize in tensorboard\n",
    "loss = tf.losses.softmax_cross_entropy(onehot_labels=tf_y, logits=prediction) \n",
    "\n",
    "#step6 : Define training operation\n",
    "#using Adam optimizer with learning rate of 0.001 to minimize loss\n",
    "#if you want to use daying learning rate uncemment this section\n",
    "##############################################################################\n",
    "#global_step = tf.Variable(0, trainable=False)\n",
    "#starter_learning_rate = 0.1\n",
    "#learning_rate = tf.train.exponential_decay(starter_learning_rate, global_step,\n",
    "#                                           30, 0.99, staircase=True)\n",
    "#tf.summary.scalar(\"learning rate\",learning_rate)\n",
    "#tf.summary.scalar(\"global step\",global_step)\n",
    "#train_op = tf.train.GradientDescentOptimizer(learning_rate).minimize(loss, global_step=global_step)\n",
    "###################################################################################\n",
    "\n",
    "train_op = tf.train.AdamOptimizer(LR).minimize(loss)\n",
    "\n",
    "#Step7 : Check the accuracy of model using lables and predicted outputs\n",
    "\n",
    "accuracy = tf.metrics.accuracy(          # return (acc, update_op), and create 2 local variables\n",
    "    labels=tf.argmax(tf_y, axis=1), predictions=tf.argmax(prediction, axis=1),)[1]\n",
    "\n",
    "#Step8 : Add variables to tensorboard for tracking and visualisation\n",
    "\n",
    "tf.summary.scalar(\"loss\",loss)\n",
    "tf.summary.histogram(\"loss\",loss)\n",
    "tf.summary.scalar(\"Accuracy\",accuracy)\n",
    "summary_op = tf.summary.merge_all()\n"
   ]
  },
  {
   "cell_type": "code",
   "execution_count": 11,
   "metadata": {
    "collapsed": true,
    "deletable": true,
    "editable": true
   },
   "outputs": [],
   "source": [
    "#Step9 : Define a function to display some sample test results\n",
    "def display_result(sess):\n",
    "    test_output = sess.run(prediction, {tf_x: test_x[820:830]})\n",
    "    pred_y = np.argmax(test_output, 1)\n",
    "       \n",
    "    for num,data in enumerate(test_x[820:830]):\n",
    "        orig = data.reshape(28, 28)\n",
    "        y = fig.add_subplot(2,5, num+1)\n",
    "        y.imshow(data.reshape(28, 28),cmap='gray')\n",
    "        plt.title(pred_y[num], fontsize=20)\n",
    "        plt.xticks([])\n",
    "        plt.yticks([])\n",
    "    plt.show();plt.pause(1);"
   ]
  },
  {
   "cell_type": "code",
   "execution_count": 12,
   "metadata": {
    "collapsed": false,
    "deletable": true,
    "editable": true
   },
   "outputs": [
    {
     "name": "stdout",
     "output_type": "stream",
     "text": [
      "Step: 0 | train loss: 2.2966 | test accuracy: 0.19\n"
     ]
    },
    {
     "name": "stderr",
     "output_type": "stream",
     "text": [
      "/usr/local/lib/python3.5/dist-packages/matplotlib/backend_bases.py:2445: MatplotlibDeprecationWarning: Using default event loop until function specific to this GUI is implemented\n",
      "  warnings.warn(str, mplDeprecation)\n"
     ]
    },
    {
     "name": "stdout",
     "output_type": "stream",
     "text": [
      "Step: 10 | train loss: 0.8690 | test accuracy: 0.51\n",
      "Step: 20 | train loss: 0.3780 | test accuracy: 0.63\n",
      "Step: 30 | train loss: 0.5149 | test accuracy: 0.70\n",
      "Step: 40 | train loss: 0.3030 | test accuracy: 0.74\n",
      "Step: 50 | train loss: 0.1412 | test accuracy: 0.78\n",
      "Step: 60 | train loss: 0.2017 | test accuracy: 0.79\n",
      "Step: 70 | train loss: 0.2725 | test accuracy: 0.81\n",
      "Step: 80 | train loss: 0.1547 | test accuracy: 0.83\n",
      "Step: 90 | train loss: 0.1294 | test accuracy: 0.84\n",
      "Step: 100 | train loss: 0.1731 | test accuracy: 0.85\n",
      "Step: 110 | train loss: 0.1296 | test accuracy: 0.86\n",
      "Step: 120 | train loss: 0.0323 | test accuracy: 0.87\n",
      "Step: 130 | train loss: 0.0798 | test accuracy: 0.87\n",
      "Step: 140 | train loss: 0.0240 | test accuracy: 0.88\n",
      "Step: 150 | train loss: 0.1017 | test accuracy: 0.88\n",
      "Step: 160 | train loss: 0.1384 | test accuracy: 0.89\n",
      "Step: 170 | train loss: 0.1636 | test accuracy: 0.89\n",
      "Step: 180 | train loss: 0.1160 | test accuracy: 0.90\n",
      "Step: 190 | train loss: 0.1001 | test accuracy: 0.90\n",
      "Step: 200 | train loss: 0.1217 | test accuracy: 0.90\n",
      "Step: 210 | train loss: 0.0791 | test accuracy: 0.91\n",
      "Step: 220 | train loss: 0.0884 | test accuracy: 0.91\n",
      "Step: 230 | train loss: 0.0843 | test accuracy: 0.91\n",
      "Step: 240 | train loss: 0.0249 | test accuracy: 0.92\n",
      "Step: 250 | train loss: 0.1077 | test accuracy: 0.92\n",
      "Step: 260 | train loss: 0.0742 | test accuracy: 0.92\n",
      "Step: 270 | train loss: 0.0876 | test accuracy: 0.92\n",
      "Step: 280 | train loss: 0.0309 | test accuracy: 0.92\n",
      "Step: 290 | train loss: 0.0908 | test accuracy: 0.93\n",
      "Step: 300 | train loss: 0.0753 | test accuracy: 0.93\n",
      "Step: 310 | train loss: 0.0424 | test accuracy: 0.93\n",
      "Step: 320 | train loss: 0.0636 | test accuracy: 0.93\n",
      "Step: 330 | train loss: 0.1597 | test accuracy: 0.93\n",
      "Step: 340 | train loss: 0.0209 | test accuracy: 0.93\n",
      "Step: 350 | train loss: 0.1547 | test accuracy: 0.93\n",
      "Step: 360 | train loss: 0.0157 | test accuracy: 0.93\n",
      "Step: 370 | train loss: 0.0296 | test accuracy: 0.94\n",
      "Step: 380 | train loss: 0.0558 | test accuracy: 0.94\n",
      "Step: 390 | train loss: 0.0429 | test accuracy: 0.94\n",
      "Step: 400 | train loss: 0.0388 | test accuracy: 0.94\n",
      "Step: 410 | train loss: 0.0248 | test accuracy: 0.94\n",
      "Step: 420 | train loss: 0.0436 | test accuracy: 0.94\n",
      "Step: 430 | train loss: 0.0464 | test accuracy: 0.94\n",
      "Step: 440 | train loss: 0.0320 | test accuracy: 0.94\n",
      "Step: 450 | train loss: 0.0083 | test accuracy: 0.94\n",
      "Step: 460 | train loss: 0.0534 | test accuracy: 0.94\n",
      "Step: 470 | train loss: 0.0290 | test accuracy: 0.95\n",
      "Step: 480 | train loss: 0.0142 | test accuracy: 0.95\n",
      "Step: 490 | train loss: 0.0605 | test accuracy: 0.95\n",
      "Step: 500 | train loss: 0.0221 | test accuracy: 0.95\n",
      "Step: 510 | train loss: 0.0223 | test accuracy: 0.95\n",
      "Step: 520 | train loss: 0.0279 | test accuracy: 0.95\n",
      "Step: 530 | train loss: 0.0547 | test accuracy: 0.95\n",
      "Step: 540 | train loss: 0.0813 | test accuracy: 0.95\n",
      "Step: 550 | train loss: 0.0497 | test accuracy: 0.95\n",
      "Step: 560 | train loss: 0.0302 | test accuracy: 0.95\n",
      "Step: 570 | train loss: 0.0151 | test accuracy: 0.95\n",
      "Step: 580 | train loss: 0.0291 | test accuracy: 0.95\n",
      "Step: 590 | train loss: 0.0943 | test accuracy: 0.95\n"
     ]
    }
   ],
   "source": [
    "#stpe10 : Create tensorflow session\n",
    "#initialize the variables\n",
    "#run the training and save the checkpoints and graph for visualization\n",
    "\n",
    "sess = tf.Session()\n",
    "init_op = tf.group(tf.global_variables_initializer(), tf.local_variables_initializer()) # the local var is for accuracy_op\n",
    "sess.run(init_op)     # initialize var in graph\n",
    "\n",
    "saver = tf.train.Saver()\n",
    "\n",
    "plt.ion()\n",
    "fig=plt.figure()\n",
    "\n",
    "if(Train):\n",
    "\n",
    "    if not os.path.exists(checkpoint_dir):\n",
    "        os.makedirs(checkpoint_dir)\n",
    "    writer = tf.summary.FileWriter('ckpt/graphs', sess.graph)\n",
    "    \n",
    "    for step in range(600):\n",
    "        b_x, b_y = mnist.train.next_batch(BATCH_SIZE)\n",
    "\n",
    "        _, loss_, summary = sess.run([train_op, loss, summary_op], {tf_x: b_x, tf_y: b_y})\n",
    "        \n",
    "        writer.add_summary(summary, step)\n",
    "        \n",
    "        fig.suptitle(\"STEP: %d\" % step, fontsize=20)        \n",
    "        if step % 10 == 0:\n",
    "            accuracy_ = sess.run(accuracy, {tf_x: test_x, tf_y: test_y})\n",
    "            print('Step:', step, '| train loss: %.4f' % loss_, '| test accuracy: %.2f' % accuracy_)\n",
    "            \n",
    "            \n",
    "            \n",
    "            display_result(sess)\n",
    "        \n",
    "    save_path = saver.save(sess, checkpoint_prefix)\n",
    "    writer.close() \n",
    "    plt.ioff()\n",
    "    plt.close();\n",
    "\n",
    "else:\n",
    "    checkpoint_file = tf.train.latest_checkpoint(checkpoint_dir)\n",
    "\n",
    "    saver.restore(sess, checkpoint_file)\n",
    "    display_result(sess)\n"
   ]
  },
  {
   "cell_type": "code",
   "execution_count": null,
   "metadata": {
    "collapsed": true,
    "deletable": true,
    "editable": true
   },
   "outputs": [],
   "source": []
  },
  {
   "cell_type": "code",
   "execution_count": null,
   "metadata": {
    "collapsed": true,
    "deletable": true,
    "editable": true
   },
   "outputs": [],
   "source": []
  },
  {
   "cell_type": "code",
   "execution_count": null,
   "metadata": {
    "collapsed": true,
    "deletable": true,
    "editable": true
   },
   "outputs": [],
   "source": []
  }
 ],
 "metadata": {
  "kernelspec": {
   "display_name": "Python 3",
   "language": "python",
   "name": "python3"
  },
  "language_info": {
   "codemirror_mode": {
    "name": "ipython",
    "version": 3
   },
   "file_extension": ".py",
   "mimetype": "text/x-python",
   "name": "python",
   "nbconvert_exporter": "python",
   "pygments_lexer": "ipython3",
   "version": "3.5.2"
  }
 },
 "nbformat": 4,
 "nbformat_minor": 2
}
